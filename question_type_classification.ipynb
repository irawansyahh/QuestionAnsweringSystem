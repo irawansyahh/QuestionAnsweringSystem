{
  "nbformat": 4,
  "nbformat_minor": 0,
  "metadata": {
    "colab": {
      "name": "question_type_classification.ipynb",
      "provenance": []
    },
    "kernelspec": {
      "name": "python3",
      "display_name": "Python 3"
    }
  },
  "cells": [
    {
      "cell_type": "markdown",
      "metadata": {
        "id": "4xP9UzxQHn0u"
      },
      "source": [
        "**Tutorial Question Type Detection / Classification**\r\n",
        "\r\n",
        "Mendeteksi tipe pertanyaan, bagian dari tahapan *question processing*\r\n",
        "\r\n",
        "Referensi:  Learning Question Classifiers, Xin Li, Dan Roth. COLING'02, Aug., 2002\r\n",
        "\r\n",
        "Dataset yang digunakan: training_set_1, https://cogcomp.seas.upenn.edu/Data/QA/QC/"
      ]
    },
    {
      "cell_type": "markdown",
      "metadata": {
        "id": "CrfW3YbHe6ac"
      },
      "source": [
        "Import library yang diperlukan untuk klasifikasi teks"
      ]
    },
    {
      "cell_type": "code",
      "metadata": {
        "id": "Rte_E9y-y-ZZ"
      },
      "source": [
        "from sklearn.feature_extraction.text import CountVectorizer\r\n",
        "from sklearn.naive_bayes import MultinomialNB\r\n",
        "from sklearn.metrics import classification_report"
      ],
      "execution_count": null,
      "outputs": []
    },
    {
      "cell_type": "markdown",
      "metadata": {
        "id": "ALTBtMOBfbwA"
      },
      "source": [
        "Baca file yang berisi dataset pertanyaan/question yang berisi informasi tipe/label question"
      ]
    },
    {
      "cell_type": "code",
      "metadata": {
        "id": "L7RdK43UzOIX"
      },
      "source": [
        "file = open('train_1000.label', 'r', encoding = \"ISO-8859-1\") \r\n",
        "lines = file.readlines() "
      ],
      "execution_count": null,
      "outputs": []
    },
    {
      "cell_type": "markdown",
      "metadata": {
        "id": "OPllyO3pfmJv"
      },
      "source": [
        "Coba print question dan label pertama di dataset"
      ]
    },
    {
      "cell_type": "code",
      "metadata": {
        "id": "kMRBPqar0ZeC",
        "colab": {
          "base_uri": "https://localhost:8080/"
        },
        "outputId": "75d62ef5-dd5f-4cf0-a928-29a05a4ead0c"
      },
      "source": [
        "print(lines[0])"
      ],
      "execution_count": null,
      "outputs": [
        {
          "output_type": "stream",
          "text": [
            "DESC:manner How did serfdom develop in and then leave Russia ?\n",
            "\n"
          ],
          "name": "stdout"
        }
      ]
    },
    {
      "cell_type": "markdown",
      "metadata": {
        "id": "T4NQiHo2fr4Q"
      },
      "source": [
        "Periksa jumlah total question"
      ]
    },
    {
      "cell_type": "code",
      "metadata": {
        "id": "9J-gdwUE2o56",
        "colab": {
          "base_uri": "https://localhost:8080/"
        },
        "outputId": "d5190229-a21d-45ed-9fd7-58d2ff7337a4"
      },
      "source": [
        "print(len(lines))"
      ],
      "execution_count": null,
      "outputs": [
        {
          "output_type": "stream",
          "text": [
            "1000\n"
          ],
          "name": "stdout"
        }
      ]
    },
    {
      "cell_type": "markdown",
      "metadata": {
        "id": "tosMLvwzfvvv"
      },
      "source": [
        "Proses dataset, pisahkan label tipe question dan question. Pada tutorial ini, identifikasi tipe hanya dilakukan pada level tipe yang lebih general. Deskripsi lengkap tipe question silakan dibaca di paper referensi."
      ]
    },
    {
      "cell_type": "code",
      "metadata": {
        "id": "58PO2uky0fHw"
      },
      "source": [
        "labels = []\r\n",
        "questions = []\r\n",
        "for line in lines:\r\n",
        "    tokens = line.split()\r\n",
        "    current_label = tokens[0].split(':')[0]\r\n",
        "    labels.append(current_label)\r\n",
        "    #'Path=helloworld'.removeprefix('Path=')\r\n",
        "    current_question = line[len(tokens[0])+1:]\r\n",
        "    questions.append(current_question)"
      ],
      "execution_count": null,
      "outputs": []
    },
    {
      "cell_type": "code",
      "metadata": {
        "id": "hNpArwKKh18h"
      },
      "source": [
        "for i in range(len(questions)):\r\n",
        "  questions= [i.split('\\n', 1)[0] for i in questions]\r\n",
        "  list_questions = list(next(zip(*map(str.split, questions))))\r\n",
        "  if list_questions[i]=='What':\r\n",
        "    labels[i] = \"ENTY\"\r\n",
        "  elif list_questions[i]=='Who':\r\n",
        "    labels[i] = \"HUM\"  \r\n",
        "  elif list_questions[i]=='Where':\r\n",
        "    labels[i] = \"LOC\"\r\n",
        "  elif list_questions[i]=='When':\r\n",
        "    labels[i] = \"NUM\"\r\n",
        "  elif list_questions[i]=='How':\r\n",
        "    labels[i] = \"NUM\"\r\n",
        "  else:\r\n",
        "    # list_questions[i]=='Why':\r\n",
        "    labels[i] = \"DESC\"\r\n",
        "      "
      ],
      "execution_count": null,
      "outputs": []
    },
    {
      "cell_type": "code",
      "metadata": {
        "colab": {
          "base_uri": "https://localhost:8080/"
        },
        "id": "1ERTH7xMjQGG",
        "outputId": "db1d830c-13e9-46e9-de50-b828745bf145"
      },
      "source": [
        "print(len(current_question))"
      ],
      "execution_count": null,
      "outputs": [
        {
          "output_type": "stream",
          "text": [
            "92\n"
          ],
          "name": "stdout"
        }
      ]
    },
    {
      "cell_type": "code",
      "metadata": {
        "colab": {
          "base_uri": "https://localhost:8080/",
          "height": 35
        },
        "id": "6o4NTZlng5Nf",
        "outputId": "469d9ea9-945f-4847-8c53-feb349338564"
      },
      "source": [
        "current_question"
      ],
      "execution_count": 26,
      "outputs": [
        {
          "output_type": "execute_result",
          "data": {
            "application/vnd.google.colaboratory.intrinsic+json": {
              "type": "string"
            },
            "text/plain": [
              "\"Who portrayed `` Rosanne Rosanna-Dana '' on the television show `` Saturday Night Live '' ?\\n\""
            ]
          },
          "metadata": {
            "tags": []
          },
          "execution_count": 26
        }
      ]
    },
    {
      "cell_type": "markdown",
      "metadata": {
        "id": "r5wABBIBoPxA"
      },
      "source": [
        "Cek Question kelima"
      ]
    },
    {
      "cell_type": "code",
      "metadata": {
        "colab": {
          "base_uri": "https://localhost:8080/"
        },
        "id": "vNeHk3OPoRe0",
        "outputId": "c1c813c0-70e6-4ebe-93a7-bd3e7095c4a3"
      },
      "source": [
        "print(questions[12])"
      ],
      "execution_count": null,
      "outputs": [
        {
          "output_type": "stream",
          "text": [
            "Who was The Pride of the Yankees ?\n"
          ],
          "name": "stdout"
        }
      ]
    },
    {
      "cell_type": "code",
      "metadata": {
        "colab": {
          "base_uri": "https://localhost:8080/",
          "height": 35
        },
        "id": "6-cRK2SAopq8",
        "outputId": "4937a452-3bd1-41de-ffdd-16379b6d3108"
      },
      "source": [
        "labels[12]"
      ],
      "execution_count": 27,
      "outputs": [
        {
          "output_type": "execute_result",
          "data": {
            "application/vnd.google.colaboratory.intrinsic+json": {
              "type": "string"
            },
            "text/plain": [
              "'HUM'"
            ]
          },
          "metadata": {
            "tags": []
          },
          "execution_count": 27
        }
      ]
    },
    {
      "cell_type": "markdown",
      "metadata": {
        "id": "XOrxzEPEf-We"
      },
      "source": [
        "Cek label question pertama"
      ]
    },
    {
      "cell_type": "code",
      "metadata": {
        "id": "juIxjZLk2aGR",
        "colab": {
          "base_uri": "https://localhost:8080/"
        },
        "outputId": "9181d767-4c5a-4384-f13b-44f9143608f5"
      },
      "source": [
        "print(labels[0])"
      ],
      "execution_count": null,
      "outputs": [
        {
          "output_type": "stream",
          "text": [
            "NUM\n"
          ],
          "name": "stdout"
        }
      ]
    },
    {
      "cell_type": "markdown",
      "metadata": {
        "id": "xnNn0vS0gH8p"
      },
      "source": [
        "Cek question pertama"
      ]
    },
    {
      "cell_type": "code",
      "metadata": {
        "id": "rXEZY77i2cxc",
        "colab": {
          "base_uri": "https://localhost:8080/"
        },
        "outputId": "8827fc18-f16a-4dc2-fd36-54bd67ade449"
      },
      "source": [
        "print(questions[0])"
      ],
      "execution_count": null,
      "outputs": [
        {
          "output_type": "stream",
          "text": [
            "How did serfdom develop in and then leave Russia ?\n"
          ],
          "name": "stdout"
        }
      ]
    },
    {
      "cell_type": "markdown",
      "metadata": {
        "id": "2MeiKpM02tEl"
      },
      "source": [
        "Split menjadi data train dan data test, 80:20"
      ]
    },
    {
      "cell_type": "code",
      "metadata": {
        "id": "TtR_VrOd2w-Z"
      },
      "source": [
        "X_train = questions[0:800]\r\n",
        "y_train = labels[0:800]\r\n",
        "X_test = questions[800:1000]\r\n",
        "y_test = labels[800:1000]"
      ],
      "execution_count": null,
      "outputs": []
    },
    {
      "cell_type": "code",
      "metadata": {
        "id": "-04gomLc3i33",
        "colab": {
          "base_uri": "https://localhost:8080/"
        },
        "outputId": "10554bb5-498e-4865-8e90-dead45cda567"
      },
      "source": [
        "print(len(X_train))"
      ],
      "execution_count": null,
      "outputs": [
        {
          "output_type": "stream",
          "text": [
            "800\n"
          ],
          "name": "stdout"
        }
      ]
    },
    {
      "cell_type": "markdown",
      "metadata": {
        "id": "N-b3bvIkgNwd"
      },
      "source": [
        "Ubah representasi teks ke vektor count"
      ]
    },
    {
      "cell_type": "code",
      "metadata": {
        "id": "W5Cltsfw3mDy"
      },
      "source": [
        "cv = CountVectorizer(analyzer='word') \r\n",
        "X_train_cv = cv.fit_transform(X_train)"
      ],
      "execution_count": null,
      "outputs": []
    },
    {
      "cell_type": "code",
      "metadata": {
        "id": "W5Oa7FsA34TD"
      },
      "source": [
        "X_test_cv = cv.transform(X_test)"
      ],
      "execution_count": null,
      "outputs": []
    },
    {
      "cell_type": "code",
      "metadata": {
        "id": "Adl7kqvl3y9f",
        "colab": {
          "base_uri": "https://localhost:8080/"
        },
        "outputId": "18bcf6e9-5103-41a9-d15c-1c8c225da22a"
      },
      "source": [
        "print(X_train[0])"
      ],
      "execution_count": null,
      "outputs": [
        {
          "output_type": "stream",
          "text": [
            "How did serfdom develop in and then leave Russia ?\n"
          ],
          "name": "stdout"
        }
      ]
    },
    {
      "cell_type": "markdown",
      "metadata": {
        "id": "kBSlW81RhP7Q"
      },
      "source": [
        "Contoh representasi vektor question pertama"
      ]
    },
    {
      "cell_type": "code",
      "metadata": {
        "id": "01-ek0XVG6Qh",
        "colab": {
          "base_uri": "https://localhost:8080/"
        },
        "outputId": "258988df-9541-478c-fa08-36ea5b828cf8"
      },
      "source": [
        "print(X_train_cv[0])"
      ],
      "execution_count": null,
      "outputs": [
        {
          "output_type": "stream",
          "text": [
            "  (0, 1053)\t1\n",
            "  (0, 646)\t1\n",
            "  (0, 1862)\t1\n",
            "  (0, 637)\t1\n",
            "  (0, 1074)\t1\n",
            "  (0, 131)\t1\n",
            "  (0, 2089)\t1\n",
            "  (0, 1221)\t1\n",
            "  (0, 1817)\t1\n"
          ],
          "name": "stdout"
        }
      ]
    },
    {
      "cell_type": "markdown",
      "metadata": {
        "id": "1E8S0b5vhWFr"
      },
      "source": [
        "Train classifier Multinomial Naive Bayes"
      ]
    },
    {
      "cell_type": "code",
      "metadata": {
        "id": "gp8Mzxys4K4M",
        "colab": {
          "base_uri": "https://localhost:8080/"
        },
        "outputId": "ff63912d-0b26-41b7-e240-c7c370120dc8"
      },
      "source": [
        "clf = MultinomialNB()\r\n",
        "clf.fit(X_train_cv, y_train)"
      ],
      "execution_count": null,
      "outputs": [
        {
          "output_type": "execute_result",
          "data": {
            "text/plain": [
              "MultinomialNB(alpha=1.0, class_prior=None, fit_prior=True)"
            ]
          },
          "metadata": {
            "tags": []
          },
          "execution_count": 19
        }
      ]
    },
    {
      "cell_type": "markdown",
      "metadata": {
        "id": "u5zIxl53hwUa"
      },
      "source": [
        "Lakukan prediksi tipe question data tes"
      ]
    },
    {
      "cell_type": "code",
      "metadata": {
        "id": "UE3Zagp2GOS9"
      },
      "source": [
        "y_predict = clf.predict(X_test_cv)"
      ],
      "execution_count": null,
      "outputs": []
    },
    {
      "cell_type": "markdown",
      "metadata": {
        "id": "utIya40nh2Tk"
      },
      "source": [
        "Representasi vektor data tes pertama"
      ]
    },
    {
      "cell_type": "code",
      "metadata": {
        "id": "hE5QTx-uHD0Z",
        "colab": {
          "base_uri": "https://localhost:8080/"
        },
        "outputId": "a68f2c46-6c49-48da-df9b-03158a354c09"
      },
      "source": [
        "print(X_test_cv[0])"
      ],
      "execution_count": null,
      "outputs": [
        {
          "output_type": "stream",
          "text": [
            "  (0, 279)\t1\n",
            "  (0, 846)\t1\n",
            "  (0, 937)\t1\n",
            "  (0, 1074)\t1\n",
            "  (0, 1500)\t1\n",
            "  (0, 2084)\t2\n",
            "  (0, 2111)\t1\n",
            "  (0, 2215)\t1\n",
            "  (0, 2251)\t1\n"
          ],
          "name": "stdout"
        }
      ]
    },
    {
      "cell_type": "markdown",
      "metadata": {
        "id": "_IFYfuuBh5V_"
      },
      "source": [
        "Question pertama pada data tes"
      ]
    },
    {
      "cell_type": "code",
      "metadata": {
        "id": "7ksSdNq4GW-l",
        "colab": {
          "base_uri": "https://localhost:8080/"
        },
        "outputId": "22cdc48f-1637-4fba-f3bb-53c6cfcf50cd"
      },
      "source": [
        "print(X_test[0])"
      ],
      "execution_count": null,
      "outputs": [
        {
          "output_type": "stream",
          "text": [
            "Who was the first black golfer to tee off in the Masters ?\n"
          ],
          "name": "stdout"
        }
      ]
    },
    {
      "cell_type": "markdown",
      "metadata": {
        "id": "vguJLjJ9iDUc"
      },
      "source": [
        "Tipe question hasil prediksi question pertama"
      ]
    },
    {
      "cell_type": "code",
      "metadata": {
        "id": "KNXx-JA9Gbzb",
        "colab": {
          "base_uri": "https://localhost:8080/"
        },
        "outputId": "8d08c96f-aa4f-463f-c3ed-4d063c3e537f"
      },
      "source": [
        "print(y_predict[0])"
      ],
      "execution_count": null,
      "outputs": [
        {
          "output_type": "stream",
          "text": [
            "HUM\n"
          ],
          "name": "stdout"
        }
      ]
    },
    {
      "cell_type": "markdown",
      "metadata": {
        "id": "xoeKe5FqiMcN"
      },
      "source": [
        "Tipe question pertama sebenarnya"
      ]
    },
    {
      "cell_type": "code",
      "metadata": {
        "id": "pPbNY_PGiI6k",
        "colab": {
          "base_uri": "https://localhost:8080/"
        },
        "outputId": "2e9fabc9-5457-44a5-dbf0-84a498b60ec7"
      },
      "source": [
        "print(y_test[0])"
      ],
      "execution_count": null,
      "outputs": [
        {
          "output_type": "stream",
          "text": [
            "HUM\n"
          ],
          "name": "stdout"
        }
      ]
    },
    {
      "cell_type": "markdown",
      "metadata": {
        "id": "NGvAmR6PiP-U"
      },
      "source": [
        "Kinerja klasifikasi (deteksi tipe question) pada data tes"
      ]
    },
    {
      "cell_type": "code",
      "metadata": {
        "id": "Ki3hLH35HfW9",
        "colab": {
          "base_uri": "https://localhost:8080/"
        },
        "outputId": "1621ec55-c994-4f49-970e-6a266717e382"
      },
      "source": [
        "print(classification_report(y_test, y_predict))"
      ],
      "execution_count": null,
      "outputs": [
        {
          "output_type": "stream",
          "text": [
            "              precision    recall  f1-score   support\n",
            "\n",
            "        DESC       1.00      0.05      0.10        19\n",
            "        ENTY       0.84      1.00      0.92       125\n",
            "         HUM       1.00      0.92      0.96        24\n",
            "         LOC       1.00      0.67      0.80         9\n",
            "         NUM       0.91      0.91      0.91        23\n",
            "\n",
            "    accuracy                           0.88       200\n",
            "   macro avg       0.95      0.71      0.74       200\n",
            "weighted avg       0.89      0.88      0.84       200\n",
            "\n"
          ],
          "name": "stdout"
        }
      ]
    }
  ]
}